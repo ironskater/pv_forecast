{
 "cells": [
  {
   "cell_type": "markdown",
   "source": [
    "# 1: Inception Module\n",
    "## Description:\n",
    "The most basic form of an Inception module has three to four branches starting with a 1 × 1 convolution, followed by a 3 × 3 convolution,</br>\n",
    "and ending with the concatenation of the resulting features.</br> \n",
    "This setup helps the network separately learn spatial features and channel-wise features,</br>\n",
    "which is more efficient than learning them jointly.\n",
    "\n",
    "## Example\n",
    "![](../materials/inception_module.png)"
   ],
   "metadata": {}
  },
  {
   "cell_type": "code",
   "execution_count": null,
   "source": [
    "from tensorflow.keras import layers\n",
    "\n",
    "branch_a = layers.Conv2D(128, 1, activation='relu', strides=2)(x)\n",
    "\n",
    "branch_b = layers.Conv2D(128, 1, activation='relu')(x)\n",
    "branch_b = layers.Conv2D(128, 3, activation='relu', strides=2)(branch_b)\n",
    "\n",
    "branch_c = layers.AveragePooling2D(3, strides=2)(x)\n",
    "branch_c = layers.Conv2D(128, 3, activation='relu')(branch_c)\n",
    "\n",
    "branch_d = layers.Conv2D(128, 1, activation='relu')(x)\n",
    "branch_d = layers.Conv2D(128, 3, activation='relu')(branch_d)\n",
    "branch_d = layers.Conv2D(128, 3, activation='relu', strides=2)(branch_d)\n",
    "\n",
    "output = layers.concatenate([branch_a, branch_b, branch_c, branch_d], axis=-1)"
   ],
   "outputs": [],
   "metadata": {}
  },
  {
   "cell_type": "markdown",
   "source": [
    "# 2: Residual Connections\n"
   ],
   "metadata": {}
  },
  {
   "cell_type": "code",
   "execution_count": null,
   "source": [
    "#1: How to implement a residual connection when the feature-map sizes are the same\n",
    "x = ... # assumes the existence of a 4D input tensor x \n",
    "y = layers.Conv2D(128, kernel_size=3, activation='relu', padding='same')(x)\n",
    "y = layers.Conv2D(128, kernel_size=3, activation='relu', padding='same')(y)\n",
    "y = layers.Conv2D(128, kernel_size=3, activation='relu', padding='same')(y)\n",
    "\n",
    "y = layers.add([y, x])\n",
    "\n",
    "#2: implements a residual connection when the feature-map sizes differ\n",
    "x = ... # assumes the existence of a 4D input tensor x \n",
    "\n",
    "y = layers.Conv2D(128, kernel_size=3, activation='relu', padding='same')(x)\n",
    "y = layers.Conv2D(128, kernel_size=3, activation='relu', padding='same')(y)\n",
    "y = layers.MaxPooling2D(2, strides=2)(y)\n",
    "\n",
    "# Uses a 1x1 convolution to linearly downsample the original x tensor to the same shape as y\n",
    "residual = layers.Conv2D(128, kernel_size=1, strides=2, padding='same')(x)\n",
    "\n",
    "y = layers.add([y, residual])\n",
    "\n",
    "\n"
   ],
   "outputs": [],
   "metadata": {}
  }
 ],
 "metadata": {
  "orig_nbformat": 4,
  "language_info": {
   "name": "python"
  }
 },
 "nbformat": 4,
 "nbformat_minor": 2
}