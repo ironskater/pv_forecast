{
 "cells": [
  {
   "cell_type": "markdown",
   "source": [
    "# Example: A model that attempts to assess the semantic similarity between two sentences."
   ],
   "metadata": {}
  },
  {
   "cell_type": "code",
   "execution_count": null,
   "source": [
    "from tensorflow.keras import layers\n",
    "from tensorflow.keras import Input\n",
    "from tensorflow.keras.models import Model\n",
    "\n",
    "# Instantiates a single LSTM layer, once\n",
    "lstm = layers.LSTM(32)\n",
    "\n",
    "# Building the left branch of the model:\n",
    "# inputs are variable-length sequences of vectors of size 128\n",
    "left_input = Input(shape=(None, 128))\n",
    "left_output = lstm(left_input)\n",
    "\n",
    "# Building the left branch of the model:\n",
    "# when you call an existing layer instance, you reuse its weights.\n",
    "right_input = Input(shape=(None, 128))\n",
    "right_output = lstm(right_input)\n",
    "\n",
    "merged = layers.concatenate([left_output, right_output], axis=-1)\n",
    "predictions = layers.Dense(1, activation='sigmoid')(merged)\n",
    "\n",
    "model = Model(  inputs=[left_input, right_input], \n",
    "                outputs=predictions)\n",
    "\n",
    "# when training such a model, the weights of the LSTM layer are updated based on both inputs\n",
    "model.fit(  [left_data, right_data], \n",
    "            targets)"
   ],
   "outputs": [],
   "metadata": {}
  }
 ],
 "metadata": {
  "orig_nbformat": 4,
  "language_info": {
   "name": "python"
  }
 },
 "nbformat": 4,
 "nbformat_minor": 2
}