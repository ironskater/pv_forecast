{
 "cells": [
  {
   "cell_type": "markdown",
   "source": [
    "A simple example of a custom callback that saves to disk (as Numpy arrays) the<br>\n",
    "activations of every layer of the model at the end of every epoch, computed on the<br>\n",
    "first sample of the validation set"
   ],
   "metadata": {}
  },
  {
   "cell_type": "code",
   "execution_count": null,
   "source": [
    "from tensorflow.keras.callbacks import Callback\n",
    "from tensorflow.keras.models import Model\n",
    "import numpy as np\n",
    "\n",
    "class ActivationLogger(Callback):\n",
    "    def set_model(self, model):\n",
    "        self.model = model # The model instance from which the callback is being called\n",
    "        layer_outputs = [layer.output for layer in model.layers]\n",
    "        self.activations_model = Model( model.input, \n",
    "                                        layer_outputs)\n",
    "\n",
    "    def on_epoch_end(self, epoch, logs=None):\n",
    "        if self.validation_data is None:\n",
    "            raise RuntimeError('Requires validation_data')\n",
    "        validation_sample = self.validation_data[0][0:1]\n",
    "        activations = self.activations_model.predict(validation_sample)\n",
    "        f = open('activations_at_epoch_' + str(epoch) + '.npz', 'w')\n",
    "        np.savez(f, activations)\n",
    "        f.close()"
   ],
   "outputs": [],
   "metadata": {}
  }
 ],
 "metadata": {
  "orig_nbformat": 4,
  "language_info": {
   "name": "python"
  }
 },
 "nbformat": 4,
 "nbformat_minor": 2
}