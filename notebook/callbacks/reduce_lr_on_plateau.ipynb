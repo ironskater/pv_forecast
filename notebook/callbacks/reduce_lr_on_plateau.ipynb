{
 "cells": [
  {
   "cell_type": "code",
   "execution_count": null,
   "source": [
    "from tensorflow.keras.callbacks import ReduceLROnPlateau\n",
    "\n",
    "callbacks_list = [\n",
    "    ReduceLROnPlateau(  monitor='val_loss', # Monitor model's validation loss\n",
    "                        factor=0.1, # Divides thhe learning rate by 10 when triggered\n",
    "                        patience=10) # The callback is triggered after the validation loss has stopped improving for 10 epochs\n",
    "]\n",
    "\n",
    "model.fit(  X, y,\n",
    "            epochs=10,\n",
    "            batch_size=32,\n",
    "            callbacks=callbacks_list,\n",
    "            validation_data=(x_val, y_val))"
   ],
   "outputs": [],
   "metadata": {}
  }
 ],
 "metadata": {
  "orig_nbformat": 4,
  "language_info": {
   "name": "python"
  }
 },
 "nbformat": 4,
 "nbformat_minor": 2
}