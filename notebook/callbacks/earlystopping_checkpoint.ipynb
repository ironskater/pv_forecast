{
 "cells": [
  {
   "cell_type": "code",
   "execution_count": null,
   "source": [
    "from tensorflow.keras.callbacks import EarlyStopping, ModelCheckpoint\n",
    "\n",
    "callbacks_list = [\n",
    "    EarlyStopping(  monitor='acc', # monitor the model's validation accuracy\n",
    "                    patience=1,), # Interrupts training when accuracy has stopped improving for more than one epoch\n",
    "                                  # (that is, two epoch)\n",
    "    ModelCheckpoint(filepath='my_model.h5',\n",
    "                    monitor='val_loss',\n",
    "                    save_best_only=True,)\n",
    "                    # monitor and save_best_only args means you won't overwirte the model file\n",
    "                    # unless val_loss has improved, which allows you to keep the best model seen during training.\n",
    "]\n",
    "\n",
    "model.compile(  optimizer='rmsprop',\n",
    "                loss='binary_crossentropy',\n",
    "                metrics=['acc']) # you monitor accuracy, so it should be part of the model metrics\n",
    "\n",
    "model.fit(  X, y,\n",
    "            epochs=10,\n",
    "            batch_size=32,\n",
    "            callbacks=callbacks_list,\n",
    "            validation_data=(x_val, y_val))\n",
    "# Note that because the callback will monitor validation_loss and validation_accuracy,\n",
    "# you need to pass validation_data to the call to fit"
   ],
   "outputs": [],
   "metadata": {}
  }
 ],
 "metadata": {
  "orig_nbformat": 4,
  "language_info": {
   "name": "python"
  }
 },
 "nbformat": 4,
 "nbformat_minor": 2
}