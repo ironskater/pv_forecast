{
 "cells": [
  {
   "cell_type": "markdown",
   "source": [
    "# raw_data.py"
   ],
   "metadata": {}
  },
  {
   "cell_type": "code",
   "execution_count": 15,
   "source": [
    "import pandas as pd\n",
    "import numpy as np\n",
    "import tensorflow as tf\n",
    "import matplotlib.pyplot as plt\n",
    "from datetime import datetime\n",
    "import psycopg2\n",
    "\n",
    "conn = psycopg2.connect(database=\"solar\",\n",
    "\t\t\t\t\t\tuser=\"ai_guy\",\n",
    "\t\t\t\t\t\tpassword=\"AcBel.26217672\",\n",
    "\t\t\t\t\t\thost=\"10.10.171.136\",\n",
    "\t\t\t\t\t\tport=\"52102\")"
   ],
   "outputs": [],
   "metadata": {}
  },
  {
   "cell_type": "code",
   "execution_count": 5,
   "source": [
    "sql_param = \\\n",
    "'''\n",
    "SELECT data_time, value_1 AS irradiance \n",
    "FROM sl42_irradiance sl42\n",
    "WHERE site_id = %(site_id)s\n",
    "\tAND data_time BETWEEN %(startDT)s AND %(endDT)s\n",
    "ORDER BY data_time ASC\n",
    "'''"
   ],
   "outputs": [],
   "metadata": {}
  },
  {
   "cell_type": "code",
   "execution_count": 6,
   "source": [
    "site_id = 77\n",
    "year = 2021\n",
    "month = 9\n",
    "date = 1\n",
    "\n",
    "df_db = pd.read_sql_query(\tsql_param,\n",
    "\t\t\t\t\t\t\tcon = conn,\n",
    "\t\t\t\t\t\t\tparams={'site_id':site_id,\n",
    "\t\t\t\t\t\t\t\t\t'startDT':datetime(year, month, date, 0, 0, 0),\n",
    "\t\t\t\t\t\t\t\t\t'endDT':datetime(year, month, date, 23, 59, 59)},\n",
    "\t\t\t\t\t\t\tparse_dates = {'data_time':{'format':'%Y-%m-%d %H:%M:%S:%f'}},\n",
    "\t\t\t\t\t\t\tindex_col = ['data_time'])\n",
    "\n",
    "df_db = df_db.dropna(axis = 'columns', how = 'all')\n",
    "df_db"
   ],
   "outputs": [
    {
     "output_type": "execute_result",
     "data": {
      "text/html": [
       "<div>\n",
       "<style scoped>\n",
       "    .dataframe tbody tr th:only-of-type {\n",
       "        vertical-align: middle;\n",
       "    }\n",
       "\n",
       "    .dataframe tbody tr th {\n",
       "        vertical-align: top;\n",
       "    }\n",
       "\n",
       "    .dataframe thead th {\n",
       "        text-align: right;\n",
       "    }\n",
       "</style>\n",
       "<table border=\"1\" class=\"dataframe\">\n",
       "  <thead>\n",
       "    <tr style=\"text-align: right;\">\n",
       "      <th></th>\n",
       "      <th>irradiance</th>\n",
       "    </tr>\n",
       "    <tr>\n",
       "      <th>data_time</th>\n",
       "      <th></th>\n",
       "    </tr>\n",
       "  </thead>\n",
       "  <tbody>\n",
       "    <tr>\n",
       "      <th>2021-09-01 05:00:00+08:00</th>\n",
       "      <td>0.0</td>\n",
       "    </tr>\n",
       "    <tr>\n",
       "      <th>2021-09-01 05:02:00+08:00</th>\n",
       "      <td>0.0</td>\n",
       "    </tr>\n",
       "    <tr>\n",
       "      <th>2021-09-01 05:04:00+08:00</th>\n",
       "      <td>0.0</td>\n",
       "    </tr>\n",
       "    <tr>\n",
       "      <th>2021-09-01 05:06:00+08:00</th>\n",
       "      <td>0.0</td>\n",
       "    </tr>\n",
       "    <tr>\n",
       "      <th>2021-09-01 05:08:00+08:00</th>\n",
       "      <td>0.0</td>\n",
       "    </tr>\n",
       "    <tr>\n",
       "      <th>...</th>\n",
       "      <td>...</td>\n",
       "    </tr>\n",
       "    <tr>\n",
       "      <th>2021-09-01 19:50:00+08:00</th>\n",
       "      <td>0.0</td>\n",
       "    </tr>\n",
       "    <tr>\n",
       "      <th>2021-09-01 19:52:00+08:00</th>\n",
       "      <td>0.0</td>\n",
       "    </tr>\n",
       "    <tr>\n",
       "      <th>2021-09-01 19:54:00+08:00</th>\n",
       "      <td>0.0</td>\n",
       "    </tr>\n",
       "    <tr>\n",
       "      <th>2021-09-01 19:56:00+08:00</th>\n",
       "      <td>0.0</td>\n",
       "    </tr>\n",
       "    <tr>\n",
       "      <th>2021-09-01 19:58:00+08:00</th>\n",
       "      <td>0.0</td>\n",
       "    </tr>\n",
       "  </tbody>\n",
       "</table>\n",
       "<p>450 rows × 1 columns</p>\n",
       "</div>"
      ],
      "text/plain": [
       "                           irradiance\n",
       "data_time                            \n",
       "2021-09-01 05:00:00+08:00         0.0\n",
       "2021-09-01 05:02:00+08:00         0.0\n",
       "2021-09-01 05:04:00+08:00         0.0\n",
       "2021-09-01 05:06:00+08:00         0.0\n",
       "2021-09-01 05:08:00+08:00         0.0\n",
       "...                               ...\n",
       "2021-09-01 19:50:00+08:00         0.0\n",
       "2021-09-01 19:52:00+08:00         0.0\n",
       "2021-09-01 19:54:00+08:00         0.0\n",
       "2021-09-01 19:56:00+08:00         0.0\n",
       "2021-09-01 19:58:00+08:00         0.0\n",
       "\n",
       "[450 rows x 1 columns]"
      ]
     },
     "metadata": {},
     "execution_count": 6
    }
   ],
   "metadata": {}
  },
  {
   "cell_type": "markdown",
   "source": [
    "# train_data.py"
   ],
   "metadata": {}
  },
  {
   "cell_type": "code",
   "execution_count": 20,
   "source": [
    "def split_sequence(sequence, n_steps):\n",
    "\tX, y = list(), list()\n",
    "\tfor i in range(len(sequence)):\n",
    "\t\t# find the end of this pattern\n",
    "\t\tend_ix = i + n_steps\n",
    "\t\t# check if we are beyond the sequence\n",
    "\t\tif end_ix > len(sequence)-1:\n",
    "\t\t\tbreak\n",
    "\t\t# gather input and output parts of the pattern\n",
    "\t\tseq_x, seq_y = sequence[i:end_ix], sequence[end_ix]\n",
    "\t\tX.append(seq_x)\n",
    "\t\ty.append(seq_y)\n",
    "\treturn np.array(X), np.array(y)\n",
    "\n",
    "\n",
    "time_steps = 3\n",
    "feature_dim = 1\n",
    "\n",
    "X, y = split_sequence(  df_db['irradiance'].values,\n",
    "                        time_steps)\n",
    "\n",
    "X = X.reshape(  X.shape[0],\n",
    "                X.shape[1],\n",
    "                feature_dim)\n",
    "\n",
    "np.savez(   'train_data.npz',\n",
    "            x=X,\n",
    "            y=y)"
   ],
   "outputs": [],
   "metadata": {}
  },
  {
   "cell_type": "markdown",
   "source": [
    "# model.py"
   ],
   "metadata": {}
  },
  {
   "cell_type": "code",
   "execution_count": 18,
   "source": [
    "input = tf.keras.Input(shape=(  time_steps,\n",
    "                                feature_dim))\n",
    "\n",
    "x = tf.keras.layers.Conv1D(filters=64,\n",
    "                           kernel_size=2,\n",
    "                           padding='valid',\n",
    "                           activation='relu',\n",
    "                           strides=1)(input)\n",
    "x = tf.keras.layers.MaxPooling1D(pool_size=2)(x)\n",
    "x = tf.keras.layers.Flatten()(x)\n",
    "x = tf.keras.layers.Dense(50, \n",
    "                          activation='relu')(x)\n",
    "output = tf.keras.layers.Dense(1, \n",
    "                               activation='relu')(x)\n",
    "\n",
    "model = tf.keras.Model(inputs=input, \n",
    "                       outputs=output)\n",
    "\n",
    "model.compile(loss='mse',\n",
    "              optimizer=tf.keras.optimizers.Adam(learning_rate=0.001))\n",
    "\n",
    "model.summary()"
   ],
   "outputs": [
    {
     "output_type": "stream",
     "name": "stdout",
     "text": [
      "Model: \"model_1\"\n",
      "_________________________________________________________________\n",
      "Layer (type)                 Output Shape              Param #   \n",
      "=================================================================\n",
      "input_2 (InputLayer)         [(None, 3, 1)]            0         \n",
      "_________________________________________________________________\n",
      "conv1d_1 (Conv1D)            (None, 2, 64)             192       \n",
      "_________________________________________________________________\n",
      "max_pooling1d_1 (MaxPooling1 (None, 1, 64)             0         \n",
      "_________________________________________________________________\n",
      "flatten_1 (Flatten)          (None, 64)                0         \n",
      "_________________________________________________________________\n",
      "dense_2 (Dense)              (None, 50)                3250      \n",
      "_________________________________________________________________\n",
      "dense_3 (Dense)              (None, 1)                 51        \n",
      "=================================================================\n",
      "Total params: 3,493\n",
      "Trainable params: 3,493\n",
      "Non-trainable params: 0\n",
      "_________________________________________________________________\n"
     ]
    }
   ],
   "metadata": {}
  },
  {
   "cell_type": "code",
   "execution_count": 22,
   "source": [
    "print('training model...')"
   ],
   "outputs": [
    {
     "output_type": "stream",
     "name": "stdout",
     "text": [
      "training model...\n"
     ]
    }
   ],
   "metadata": {}
  }
 ],
 "metadata": {
  "orig_nbformat": 4,
  "language_info": {
   "name": "python",
   "version": "3.9.6",
   "mimetype": "text/x-python",
   "codemirror_mode": {
    "name": "ipython",
    "version": 3
   },
   "pygments_lexer": "ipython3",
   "nbconvert_exporter": "python",
   "file_extension": ".py"
  },
  "kernelspec": {
   "name": "python3",
   "display_name": "Python 3.8.12 64-bit ('pv_forecast': conda)"
  },
  "interpreter": {
   "hash": "bef5fecf85687eca68836721658cd1e244cac69bf9704addfe1c1a98ab908ec0"
  }
 },
 "nbformat": 4,
 "nbformat_minor": 2
}